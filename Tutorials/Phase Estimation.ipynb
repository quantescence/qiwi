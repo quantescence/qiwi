{
 "cells": [
  {
   "cell_type": "code",
   "execution_count": 2,
   "id": "b57ad0f6",
   "metadata": {},
   "outputs": [],
   "source": [
    "import matplotlib.pyplot as plt\n",
    "import numpy as np\n",
    "import math\n",
    "from qiskit import IBMQ, Aer, transpile, assemble\n",
    "from qiskit import QuantumCircuit, ClassicalRegister, QuantumRegister\n",
    "from qiskit.visualization import plot_histogram\n",
    "import time"
   ]
  },
  {
   "cell_type": "code",
   "execution_count": 33,
   "id": "da855b46",
   "metadata": {},
   "outputs": [],
   "source": [
    "#Create a circuit for Phase estimation for a given eigenvector of a Unitary Operator \n",
    "\n",
    "#The circuit maps the phase theta on these qubits, increasing the number of qubits increases the accuracy\n",
    "num_qubits = 12\n",
    "circ = QuantumCircuit(num_qubits+1, num_qubits)\n",
    "circ.x(num_qubits)\n",
    "for qubit in range(num_qubits):\n",
    "    circ.h(qubit)\n",
    "\n",
    "#We want to estimate a gate with θ=1/3\n",
    "angle = 2*math.pi/3\n",
    "\n",
    "repetitions = 1\n",
    "for counting_qubit in range(num_qubits):\n",
    "    for i in range(repetitions):\n",
    "        circ.cp(angle, counting_qubit, num_qubits); # This is CU\n",
    "    repetitions *= 2\n",
    "#circ.draw('mpl')"
   ]
  },
  {
   "cell_type": "code",
   "execution_count": 13,
   "id": "7dd0f2d1",
   "metadata": {},
   "outputs": [],
   "source": [
    "#This is a function to apply inverse fourier tranform to circuit passed\n",
    "def qft_dagger(qc, n):\n",
    "    for qubit in range(n//2):\n",
    "        qc.swap(qubit, n-qubit-1)\n",
    "    for j in range(n):\n",
    "        for m in range(j):\n",
    "            qc.cp(-np.pi/float(2**(j-m)), m, j)\n",
    "        qc.h(j)"
   ]
  },
  {
   "cell_type": "code",
   "execution_count": 14,
   "id": "9dc0436e",
   "metadata": {},
   "outputs": [],
   "source": [
    "circ.barrier()\n",
    "# Apply inverse QFT\n",
    "qft_dagger(circ, num_qubits)"
   ]
  },
  {
   "cell_type": "markdown",
   "id": "8d74a716",
   "metadata": {},
   "source": [
    "A new token can be generated from the blueqat website at https://blueqat.com/accounts/api_setting"
   ]
  },
  {
   "cell_type": "code",
   "execution_count": null,
   "id": "fc1616c2",
   "metadata": {},
   "outputs": [],
   "source": [
    "API_KEY = \"\"\n",
    "API_ENDPOINT = \"https://acceba8a34a7d49bfb20c708e4d7bb12-b00f58c1565b5c4d.elb.us-east-2.amazonaws.com/v2/\""
   ]
  },
  {
   "cell_type": "code",
   "execution_count": 15,
   "id": "970ffd53",
   "metadata": {},
   "outputs": [
    {
     "name": "stdout",
     "output_type": "stream",
     "text": [
      "created\n",
      "completed\n",
      "{'1010101010101': 2802, '0010101010101': 176, '1110101010101': 113, '0100101010101': 31, '0110101010101': 694, '1101001010101': 4, '1101101010101': 8, '0000101010101': 11, '0001101010101': 45, '0111001010101': 5, '0000011010101': 5, '1100101010101': 50, '1111101010101': 5, '0101101010101': 19, '0011001010101': 6, '1000101010101': 17, '1100011010101': 3, '1001101010101': 23, '0000001010101': 2, '1001011001101': 1, '0111101010101': 3, '1111001010101': 12, '1011001010101': 4, '1011110010101': 2, '1000001010101': 1, '1001001010101': 2, '0101000110101': 1, '0011101010101': 10, '1010001010101': 3, '1011101010101': 5, '0001011010101': 3, '1011011010101': 1, '0100111010101': 1, '1101011010101': 1, '1111101001101': 1, '0011010010101': 1, '0110001010101': 3, '1111011010101': 1, '1001110010101': 1, '1000100110101': 1, '0110101110101': 1, '1001101001001': 1, '1010011010101': 1, '1110011010101': 3, '0001010010101': 1, '0111100010101': 1, '1111110010101': 1, '1011101100101': 1, '1110001010101': 2, '0010110010101': 1, '0001001010101': 1, '0000001100101': 1, '0111010001101': 1, '1001011010101': 1, '1000011100101': 1, '1010011100101': 1}\n",
      "163.91832423210144\n"
     ]
    }
   ],
   "source": [
    "#Sending the Circuit to a Blueqat Server\n",
    "\n",
    "import gzip\n",
    "import json\n",
    "import urllib.request\n",
    "import time\n",
    "import ssl\n",
    "import numpy as np\n",
    "import collections\n",
    "from qiskit import QuantumCircuit\n",
    "\n",
    "shots = 4096\n",
    "    \n",
    "def post_request(path, body):\n",
    "    headers = {\n",
    "        \"Content-Type\": \"application/json\",\n",
    "        \"X-Api-Key\": API_KEY,\n",
    "        \"Accept-Encoding\": \"gzip\",\n",
    "    }\n",
    "    req = urllib.request.Request(\n",
    "        API_ENDPOINT + path, json.dumps(body).encode(), headers\n",
    "    )\n",
    "    with urllib.request.urlopen(req, context=ctx) as res:\n",
    "        body = (\n",
    "            gzip.decompress(res.read())\n",
    "            if res.headers.get(\"Content-Encoding\") == \"gzip\"\n",
    "            else res.read()\n",
    "    )\n",
    "    return json.loads(body)\n",
    "    \n",
    "\n",
    "ctx = ssl.create_default_context()\n",
    "ctx.check_hostname = False\n",
    "ctx.verify_mode = ssl.CERT_NONE\n",
    "\n",
    "params = {\n",
    "    \"circuit\": circ.qasm(),\n",
    "    \"num_samples\": shots,\n",
    "    \"gate_batching\": 50,\n",
    "    \"algo\": \"qr_iteration\",\n",
    "    \"cf\": 1e-14,\n",
    "    \"chi\": 128,\n",
    "}\n",
    "\n",
    "# create task\n",
    "start=time.time()\n",
    "res = post_request(\"quantum-tasks/create_itensors_tasks\", params)\n",
    "# get task by ID\n",
    "#time.sleep(30)\n",
    "\n",
    "\n",
    "#check if task is completed    \n",
    "run=True\n",
    "once=True\n",
    "\n",
    "while(run):\n",
    "    time.sleep(1)\n",
    "    A = post_request(\"quantum-tasks/get_itensors_task\", {'task_id': res[\"task_id\"]})\n",
    "    #print(A[\"status\"])\n",
    "    if A[\"status\"]=='failed':\n",
    "        print('failed')\n",
    "        run=False\n",
    "    elif A[\"status\"]=='created' and once==True:\n",
    "        print('created')\n",
    "        once=False\n",
    "    elif A[\"status\"]=='completed':\n",
    "        print('completed')\n",
    "        run=False\n",
    "speed=time.time()-start\n",
    "\n",
    "\n",
    "# get result\n",
    "A = post_request(\"quantum-tasks/get_itensors_task\", {'task_id': res[\"task_id\"]})\n",
    "results=A[\"result\"]\n",
    "\n",
    "frequency = collections.Counter(results)\n",
    "print(dict(frequency))\n",
    "print(speed)"
   ]
  },
  {
   "cell_type": "markdown",
   "id": "d38d2a3d",
   "metadata": {},
   "source": [
    "We get the $|2^n\\theta\\rangle$ state to be '010101010101', which corresponds to the binary number 1365. To get the value of $\\theta$ we divide it by $2^12=4096$ which turns out be 0.333252. This is a very good estimate of the given angle."
   ]
  }
 ],
 "metadata": {
  "kernelspec": {
   "display_name": "Python 3 (ipykernel)",
   "language": "python",
   "name": "python3"
  },
  "language_info": {
   "codemirror_mode": {
    "name": "ipython",
    "version": 3
   },
   "file_extension": ".py",
   "mimetype": "text/x-python",
   "name": "python",
   "nbconvert_exporter": "python",
   "pygments_lexer": "ipython3",
   "version": "3.9.7"
  }
 },
 "nbformat": 4,
 "nbformat_minor": 5
}
